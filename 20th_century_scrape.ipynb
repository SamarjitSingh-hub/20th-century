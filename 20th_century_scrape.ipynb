{
 "cells": [
  {
   "cell_type": "code",
   "execution_count": 1,
   "id": "ed4044f5-f2e1-4f5b-a55b-3e409c2f434b",
   "metadata": {},
   "outputs": [],
   "source": [
    "# Import libraries\n",
    "\n",
    "import pandas as pd\n",
    "import time\n",
    "from selenium import webdriver\n",
    "from webdriver_manager.chrome import ChromeDriverManager\n",
    "from selenium.webdriver.common.by import By\n",
    "from selenium.webdriver.chrome.service import Service\n",
    "from selenium.webdriver.chrome.options import Options\n",
    "import matplotlib.pyplot as plt\n",
    "import os\n",
    "import logging\n",
    "import requests\n",
    "import bs4"
   ]
  },
  {
   "cell_type": "code",
   "execution_count": 3,
   "id": "9b3f6a05-b24d-4dca-8316-92143049a09f",
   "metadata": {},
   "outputs": [],
   "source": [
    "## Setup chrome options\n",
    "\n",
    "chrome_options = Options()\n",
    "chrome_options.add_argument(\"--headless\") # Ensure GUI is off\n",
    "chrome_options.add_argument(\"--no-sandbox\")"
   ]
  },
  {
   "cell_type": "code",
   "execution_count": 5,
   "id": "62d45f50-5bb7-4d40-8f3c-548a243eee5c",
   "metadata": {},
   "outputs": [],
   "source": [
    "# Install Chrome driver manager\n",
    "\n",
    "service = Service(executable_path=ChromeDriverManager().install())"
   ]
  },
  {
   "cell_type": "code",
   "execution_count": 7,
   "id": "1bed581d-eff5-4a8f-bd90-6e34d76bb487",
   "metadata": {},
   "outputs": [],
   "source": [
    "# Path to your ChromeDriver (update as needed)\n",
    "path = '/Users/samarjitgehdu/Documents/Achievement 1/20th-century/chromedriver-mac-arm64/chromedriver'\n"
   ]
  },
  {
   "cell_type": "code",
   "execution_count": 9,
   "id": "e1d2b3d1-fc74-4098-bf28-0dfa208aa0e7",
   "metadata": {},
   "outputs": [],
   "source": [
    "# Create a Service object\n",
    "service = Service(executable_path = path)"
   ]
  },
  {
   "cell_type": "code",
   "execution_count": 11,
   "id": "a5758aa4-e334-4149-b2c3-a7917d97c099",
   "metadata": {},
   "outputs": [],
   "source": [
    "# Launch browser with service\n",
    "driver = webdriver.Chrome(service = service)\n",
    "driver.get(\"https://www.google.com\")"
   ]
  },
  {
   "cell_type": "markdown",
   "id": "f3516c70-05a2-4b7b-abf9-97ab66025caf",
   "metadata": {},
   "source": [
    "## Scraping 20th-century Wiki page using selenium"
   ]
  },
  {
   "cell_type": "code",
   "execution_count": 13,
   "id": "16af6c43-741d-4100-97c0-09befca97a84",
   "metadata": {},
   "outputs": [],
   "source": [
    "# Get the page's contents\n",
    "\n",
    "from bs4 import BeautifulSoup\n",
    "import requests\n",
    "\n",
    "# Step 1: Make the HTTP request\n",
    "response = requests.get(\"https://en.wikipedia.org/wiki/Key_events_of_the_20th_century\")\n",
    "\n",
    "# Step 2: Parse the HTML content\n",
    "soup = BeautifulSoup(response.text, 'html.parser')  # ✅ Use response.text\n",
    "\n",
    "# Step 3: Extract text\n",
    "text = soup.get_text()"
   ]
  },
  {
   "cell_type": "code",
   "execution_count": 15,
   "id": "20eb963a-d8df-4d58-a1b9-331b826671cf",
   "metadata": {},
   "outputs": [
    {
     "name": "stdout",
     "output_type": "stream",
     "text": [
      "✅ Page content saved as '20th_century_events.txt'\n"
     ]
    }
   ],
   "source": [
    "# Step 4: Encode and save\n",
    "with open('20th_century_events.txt', 'wb') as f:\n",
    "    f.write(text.encode('utf-8'))\n",
    "\n",
    "print(\"✅ Page content saved as '20th_century_events.txt'\")"
   ]
  },
  {
   "cell_type": "code",
   "execution_count": null,
   "id": "a902c2c6-8385-4142-856c-711e08c93688",
   "metadata": {},
   "outputs": [],
   "source": []
  }
 ],
 "metadata": {
  "kernelspec": {
   "display_name": "Python [conda env:20th_century]",
   "language": "python",
   "name": "conda-env-20th_century-py"
  },
  "language_info": {
   "codemirror_mode": {
    "name": "ipython",
    "version": 3
   },
   "file_extension": ".py",
   "mimetype": "text/x-python",
   "name": "python",
   "nbconvert_exporter": "python",
   "pygments_lexer": "ipython3",
   "version": "3.13.2"
  }
 },
 "nbformat": 4,
 "nbformat_minor": 5
}
